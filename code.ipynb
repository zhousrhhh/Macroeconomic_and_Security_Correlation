{
 "cells": [
  {
   "cell_type": "markdown",
   "metadata": {},
   "source": [
    "<h1>Problem-Security Correlation Analysis</h1>\n",
    "In this problem you'll get some practice getting and combining data from the St. Louis Federal Reserve (FRED). Get the following data from FRED (01/01/2010 to 12/31/2022):\n",
    "\n",
    "<pre>\n",
    "\"TB3MS\" #3 month t-bill market yield \n",
    "\"DGS10\" #10 year constant maturity government bond market yield\n",
    "\"NB000334Q\" #Real GDP index quarterly (index = 100 at 2012)\n",
    "\"CPIAUCSL\" #Consumer price index for all urban consumers seasonally adjusted\n",
    "</pre>\n",
    "\n",
    "Since these data items have different frequencies (some are daily, some monthly, some quarterly), make separate data reader calls for each. For GDP and the CPI, use percent changes quarter over quarter rather than the absolute values\n",
    "\n",
    "Then, as a proxy for the stock market, get data for the ticker SPY,the S&P ETF, from tiingo. You will need to create an account and get an API Key (https://www.tiingo.com/). Use the adjusted close. Resample the data to the business quarter and calculate a quarter over quarter percent change.\n",
    "\n",
    "Align all the data to the end of the business quarter (i.e., use the value on the last day of each quarter).\n",
    "\n",
    "For the ETF, calculate one day percent changes and shift the data back by one quarter (we're interested in the correlation between macroeconomic data in one quarter and the performance of the S&P in the next quarter). For example, if the percentage change on 3/31 is 5% and on 6/30 is 2.5%, we want to align the percent change on 6/30 with the the macroeconomic data as of 3/31. So we need to replace the data on 3/31 by 2.5%\n",
    "\n",
    "Using the pandas join function, join all the data into one dataframe with the quarter end date as the index\n",
    "\n",
    "Generate the correlation matrix. This is what you should get:\n",
    "\n",
    "<pre>\n",
    "\tTB3MS\tDGS10\tNB000334Q\tCPIAUCSL\tSPY\n",
    "TB3MS\t1.000000\t0.409817\t0.070356\t-0.001078\t-0.078983\n",
    "DGS10\t0.409817\t1.000000\t0.060454\t0.038290\t-0.329595\n",
    "NB000334Q\t0.070356\t0.060454\t1.000000\t0.089625\t-0.009725\n",
    "CPIAUCSL\t-0.001078\t0.038290\t0.089625\t1.000000\t-0.393822\n",
    "SPY\t-0.078983\t-0.329595\t-0.009725\t-0.393822\t1.000000\n",
    "\n",
    "</pre>\n",
    "\n",
    "<h3>Notes:</h3>\n",
    "\n",
    "1. In the shift function, positive numbers will shift forward while negative numbers will shift backward\n",
    "2. tiingo returns datetime index values while fred returns date index values. You can convert datetime to date using:\n",
    "\n",
    "    df.index = df.index.date\n",
    "    \n",
    "where spy is the dateframe with datetime values as index\n",
    "    \n",
    "3. To rename a column, use df.rename(columns={\"old_name\":\"new_name\"})"
   ]
  },
  {
   "cell_type": "code",
   "execution_count": 1,
   "metadata": {},
   "outputs": [
    {
     "name": "stderr",
     "output_type": "stream",
     "text": [
      "/var/folders/94/_mqchpnd0kv5pd779q9n49jh0000gn/T/ipykernel_13080/2657414343.py:16: FutureWarning: In a future version of pandas all arguments of concat except for the argument 'objs' will be keyword-only.\n",
      "  spy = pdr.DataReader([\"SPY\"], \"tiingo\", start, end, api_key = TIINGO_API_KEY).loc[\"SPY\"]\n"
     ]
    }
   ],
   "source": [
    "#Your code goes here\n",
    "\n",
    "from pandas_datareader import data as pdr\n",
    "import datetime\n",
    "start = datetime.datetime(2010, 1, 1)\n",
    "end = datetime.datetime(2022, 12, 31)\n",
    "\n",
    "#get data from FRED\n",
    "tbill = pdr.DataReader(\"TB3MS\", \"fred\", start, end)\n",
    "bond = pdr.DataReader(\"DGS10\", \"fred\", start, end)\n",
    "gdp = pdr.DataReader(\"NB000334Q\", \"fred\", start, end)\n",
    "cpi = pdr.DataReader(\"CPIAUCSL\", \"fred\", start, end)\n",
    "\n",
    "#get data from tiingo\n",
    "TIINGO_API_KEY = \"539c2e5c0b58b8b97c26675c06aaf043e0dc5d76\"\n",
    "spy = pdr.DataReader([\"SPY\"], \"tiingo\", start, end, api_key = TIINGO_API_KEY).loc[\"SPY\"]"
   ]
  },
  {
   "cell_type": "code",
   "execution_count": 2,
   "metadata": {},
   "outputs": [],
   "source": [
    "#for GDP and CPI: percent changes quarter over quarter\n",
    "gdp_pct = gdp.pct_change() \n",
    "cpi_pct = cpi.pct_change(3) "
   ]
  },
  {
   "cell_type": "code",
   "execution_count": 4,
   "metadata": {
    "tags": []
   },
   "outputs": [],
   "source": [
    "import pandas as pd\n",
    "#for S&P ETF: use asjClose, resample the data to business quarter\n",
    "##and calculate a quarter over quarter percent change\n",
    "spy_pct = spy[\"adjClose\"].resample(\"BQ\").last().pct_change()\n",
    "\n",
    "#align date index\n",
    "spy_pct.index = pd.DatetimeIndex(spy_pct.index) \n",
    "spy_pct.index = spy_pct.index.tz_convert(None)\n",
    "\n",
    "##Notes: since \"spy_pct.index = spy_pct.index.date\" will derive a warning in join function: \n",
    "###\"Comparison of Timestamp with datetime.date is deprecated\",\n",
    "###I change the datetime-to-date conversion method"
   ]
  },
  {
   "cell_type": "code",
   "execution_count": 5,
   "metadata": {},
   "outputs": [],
   "source": [
    "#for S&P ETF: shift the data back back one quarter \n",
    "##and align the object type and column name \n",
    "spy_pct = spy_pct.shift(-1).to_frame().rename(columns={\"adjClose\":\"SPY\"}) "
   ]
  },
  {
   "cell_type": "code",
   "execution_count": 6,
   "metadata": {},
   "outputs": [],
   "source": [
    "#align all the data to the end of the business quarter\n",
    "tbill = tbill.resample(\"BQ\").last()\n",
    "bond = bond.resample(\"BQ\").last()\n",
    "gdp_pct = gdp_pct.resample(\"BQ\").last()\n",
    "cpi_pct = cpi_pct.resample(\"BQ\").last()"
   ]
  },
  {
   "cell_type": "code",
   "execution_count": 7,
   "metadata": {},
   "outputs": [],
   "source": [
    "#join all the data into one dataframe \n",
    "data = tbill.join([bond, gdp_pct, cpi_pct, spy_pct])"
   ]
  },
  {
   "cell_type": "code",
   "execution_count": 8,
   "metadata": {},
   "outputs": [
    {
     "name": "stdout",
     "output_type": "stream",
     "text": [
      "              TB3MS     DGS10  NB000334Q  CPIAUCSL       SPY\n",
      "TB3MS      1.000000  0.409817   0.063098  0.049515 -0.078983\n",
      "DGS10      0.409817  1.000000   0.056068  0.060827 -0.329595\n",
      "NB000334Q  0.063098  0.056068   1.000000  0.162265 -0.009725\n",
      "CPIAUCSL   0.049515  0.060827   0.162265  1.000000 -0.398769\n",
      "SPY       -0.078983 -0.329595  -0.009725 -0.398769  1.000000\n"
     ]
    }
   ],
   "source": [
    "#generate the correlation matrix\n",
    "corr_matrix = data.corr()\n",
    "print(corr_matrix)"
   ]
  }
 ],
 "metadata": {
  "kernelspec": {
   "display_name": "Python 3 (ipykernel)",
   "language": "python",
   "name": "python3"
  },
  "language_info": {
   "codemirror_mode": {
    "name": "ipython",
    "version": 3
   },
   "file_extension": ".py",
   "mimetype": "text/x-python",
   "name": "python",
   "nbconvert_exporter": "python",
   "pygments_lexer": "ipython3",
   "version": "3.9.13"
  },
  "toc": {
   "base_numbering": 1,
   "nav_menu": {},
   "number_sections": true,
   "sideBar": true,
   "skip_h1_title": false,
   "title_cell": "Table of Contents",
   "title_sidebar": "Contents",
   "toc_cell": false,
   "toc_position": {},
   "toc_section_display": true,
   "toc_window_display": false
  }
 },
 "nbformat": 4,
 "nbformat_minor": 4
}
